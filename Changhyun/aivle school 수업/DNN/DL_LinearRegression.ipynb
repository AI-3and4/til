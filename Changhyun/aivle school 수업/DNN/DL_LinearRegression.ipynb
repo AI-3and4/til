{
  "nbformat": 4,
  "nbformat_minor": 0,
  "metadata": {
    "colab": {
      "provenance": []
    },
    "kernelspec": {
      "name": "python3",
      "display_name": "Python 3"
    },
    "language_info": {
      "name": "python"
    }
  },
  "cells": [
    {
      "cell_type": "code",
      "execution_count": null,
      "metadata": {
        "colab": {
          "base_uri": "https://localhost:8080/"
        },
        "id": "O8CkbVx41qq2",
        "outputId": "580793a6-b32f-409e-bcbf-7890e395dab8"
      },
      "outputs": [
        {
          "output_type": "stream",
          "name": "stdout",
          "text": [
            "[Iteration] 0 [Cost] 530.1670532226562\n",
            "[Iteration] 100 [Cost] 0.5272718071937561\n",
            "[Iteration] 200 [Cost] 0.31240129470825195\n",
            "[Iteration] 300 [Cost] 0.1850939244031906\n",
            "[Iteration] 400 [Cost] 0.10966599732637405\n",
            "[Iteration] 500 [Cost] 0.06497589498758316\n",
            "[Iteration] 600 [Cost] 0.0384976826608181\n",
            "[Iteration] 700 [Cost] 0.02280936948955059\n",
            "[Iteration] 800 [Cost] 0.013514245860278606\n",
            "[Iteration] 900 [Cost] 0.008006901480257511\n",
            "[Iteration] 1000 [Cost] 0.004744040314108133\n",
            "[Iteration] 1100 [Cost] 0.002810827689245343\n",
            "[Iteration] 1200 [Cost] 0.0016653492348268628\n",
            "[Iteration] 1300 [Cost] 0.00098673056345433\n",
            "[Iteration] 1400 [Cost] 0.0005846599233336747\n",
            "[Iteration] 1500 [Cost] 0.0003463691391516477\n",
            "[Iteration] 1600 [Cost] 0.000205220581847243\n",
            "[Iteration] 1700 [Cost] 0.00012159353354945779\n",
            "[Iteration] 1800 [Cost] 7.206828013295308e-05\n",
            "[Iteration] 1900 [Cost] 4.2707586544565856e-05\n",
            "tensor([[39.9902]], grad_fn=<AddBackward0>)\n",
            "tensor([[39.9902]])\n",
            "[Interface] 39.990177154541016\n"
          ]
        }
      ],
      "source": [
        "import torch\n",
        "x_train = torch.FloatTensor([[1,1], [2,2], [3,3]])\n",
        "y_train = torch.FloatTensor([[10], [20], [30]])\n",
        "W = torch.randn([2,1], requires_grad=True)\n",
        "b = torch.randn([1], requires_grad=True)\n",
        "optimizer = torch.optim.SGD([W,b], lr=0.01)\n",
        "\n",
        "# 딥러닝 1단계 : 모델을 만든다. Model Setup\n",
        "def H(x):\n",
        "    model = torch.matmul(x,W)+b\n",
        "    return model\n",
        "\n",
        "# 딥러닝 2단계 : 모델을 학습시킨다. Model Training\n",
        "for iter in range(2000):\n",
        "    cost = torch.mean((H(x_train)-y_train) ** 2)\n",
        "    optimizer.zero_grad()\n",
        "    cost.backward()\n",
        "    optimizer.step()\n",
        "\n",
        "    if iter % 100 == 0:\n",
        "        print('[Iteration]', iter, '[Cost]', cost.detach().item())\n",
        "\n",
        "# 딥러닝 3단계 : 추론을 수행한다. Interface\n",
        "x_test = torch.FloatTensor([[4,4]])\n",
        "\n",
        "model_result = H(x_test)\n",
        "print(model_result)\n",
        "print(model_result.detach())\n",
        "print('[Interface]', model_result.detach().item())"
      ]
    },
    {
      "cell_type": "code",
      "source": [
        "print(H(x_test))"
      ],
      "metadata": {
        "colab": {
          "base_uri": "https://localhost:8080/"
        },
        "id": "y6wZX9cq16GR",
        "outputId": "674a71cc-3d78-48e6-bf5a-a39a02422642"
      },
      "execution_count": null,
      "outputs": [
        {
          "output_type": "stream",
          "name": "stdout",
          "text": [
            "tensor([[39.9894]], grad_fn=<AddBackward0>)\n"
          ]
        }
      ]
    },
    {
      "cell_type": "markdown",
      "source": [
        "# Binary Classification"
      ],
      "metadata": {
        "id": "d8ZkBuFIBOxq"
      }
    },
    {
      "cell_type": "code",
      "source": [
        "x_train = torch.FloatTensor([[1,2], [2,3], [3,4], [4,4], [5,3], [6,2]])\n",
        "y_train = torch.FloatTensor([[0], [0], [0], [1], [1], [1]])\n",
        "W = torch.randn([2,1], requires_grad=True)\n",
        "b = torch.randn([1], requires_grad=True)\n",
        "optimizer = torch.optim.SGD([W, b], lr=0.01)\n",
        "\n",
        "# 모델을 만드는 함수 정의\n",
        "def H(x):\n",
        "    model = torch.sigmoid(torch.matmul(x, W) + b)\n",
        "    return model\n",
        "\n",
        "# 모델 학습\n",
        "for iter in range(2000):\n",
        "    cost = torch.mean((-1) * y_train * torch.log(H(x_train)) + (-1) * (1 - y_train) * torch.log(1 - H(x_train)))\n",
        "\n",
        "    optimizer.zero_grad()\n",
        "    cost.backward()\n",
        "    optimizer.step()\n",
        "\n",
        "    if iter % 100 == 0:\n",
        "        print('[Iteration]', iter, '[Cost]', cost.detach().item())\n",
        "\n",
        "# 딥러닝 3단계 : 추론을 수행한다. Interface\n",
        "x_test = torch.FloatTensor([[7,1]])\n",
        "\n",
        "model_result = H(x_test)\n",
        "print(model_result)\n",
        "print(model_result.detach())\n",
        "print('[Interface Value]', model_result.detach().item())\n",
        "print('[Interface Classification]', 'A+' if model_result.detach().item() > 0.5 else 'F')"
      ],
      "metadata": {
        "colab": {
          "base_uri": "https://localhost:8080/"
        },
        "id": "lGDWxprlBSOs",
        "outputId": "fc9fc4db-15e5-48f3-964d-fbd8f0d55d1f"
      },
      "execution_count": null,
      "outputs": [
        {
          "output_type": "stream",
          "name": "stdout",
          "text": [
            "[Iteration] 0 [Cost] 2.82038950920105\n",
            "[Iteration] 100 [Cost] 0.5097655653953552\n",
            "[Iteration] 200 [Cost] 0.4151585102081299\n",
            "[Iteration] 300 [Cost] 0.3588506877422333\n",
            "[Iteration] 400 [Cost] 0.3211253881454468\n",
            "[Iteration] 500 [Cost] 0.2936347424983978\n",
            "[Iteration] 600 [Cost] 0.2723827660083771\n",
            "[Iteration] 700 [Cost] 0.2552403211593628\n",
            "[Iteration] 800 [Cost] 0.24097032845020294\n",
            "[Iteration] 900 [Cost] 0.22880299389362335\n",
            "[Iteration] 1000 [Cost] 0.21823258697986603\n",
            "[Iteration] 1100 [Cost] 0.2089114934206009\n",
            "[Iteration] 1200 [Cost] 0.20059211552143097\n",
            "[Iteration] 1300 [Cost] 0.19309256970882416\n",
            "[Iteration] 1400 [Cost] 0.18627560138702393\n",
            "[Iteration] 1500 [Cost] 0.18003563582897186\n",
            "[Iteration] 1600 [Cost] 0.1742895245552063\n",
            "[Iteration] 1700 [Cost] 0.1689707487821579\n",
            "[Iteration] 1800 [Cost] 0.16402553021907806\n",
            "[Iteration] 1900 [Cost] 0.15940947830677032\n",
            "tensor([[1.0000]], grad_fn=<SigmoidBackward0>)\n",
            "tensor([[1.0000]])\n",
            "[Interface Value] 0.9999855756759644\n",
            "[Interface Classification] A+\n"
          ]
        }
      ]
    },
    {
      "cell_type": "markdown",
      "source": [
        "## 선형관계로 설명할 수 없는 경우"
      ],
      "metadata": {
        "id": "iQl9_UlwLuHG"
      }
    },
    {
      "cell_type": "code",
      "source": [
        "x_train = torch.FloatTensor([[1,2], [2,3], [3,4], [4,4], [5,3], [6,2], [8,1]])\n",
        "y_train = torch.FloatTensor([[0], [0], [0], [1], [1], [1], [0]])\n",
        "W = torch.randn([2,1], requires_grad=True)\n",
        "b = torch.randn([1], requires_grad=True)\n",
        "optimizer = torch.optim.SGD([W, b], lr=0.01)\n",
        "\n",
        "# 모델을 만드는 함수 정의\n",
        "def H(x):\n",
        "    model = torch.sigmoid(torch.matmul(x, W) + b)\n",
        "    return model\n",
        "\n",
        "# 모델 학습\n",
        "for iter in range(2000):\n",
        "    cost = torch.mean((-1) * y_train * torch.log(H(x_train)) + (-1) * (1 - y_train) * torch.log(1 - H(x_train)))\n",
        "    optimizer.zero_grad()\n",
        "    cost.backward()\n",
        "    optimizer.step()\n",
        "\n",
        "    if iter % 100 == 0:\n",
        "        print('[Iteration]', iter, '[Cost]', cost.detach().item(), '[Cost]', cost_1.detach().item())\n",
        "\n",
        "\n",
        "model_result = H(x_train)\n",
        "print(model_result)\n",
        "print(model_result.detach())\n",
        "# print('[Interface Classification]', 'A+' if model_result.detach().item() > 0.5 else 'F')\n",
        "\n",
        "print(\"\\nTest\\n\")\n",
        "# 딥러닝 3단계 : 추론을 수행한다. Interface\n",
        "x_test = torch.FloatTensor([[7,1]])\n",
        "\n",
        "model_result = H(x_test)\n",
        "print(model_result)\n",
        "print(model_result.detach())\n",
        "print('[Interface Value]', model_result.detach().item())\n",
        "print('[Interface Classification]', 'A+' if model_result.detach().item() > 0.5 else 'F')"
      ],
      "metadata": {
        "colab": {
          "base_uri": "https://localhost:8080/"
        },
        "id": "t_b78LfyLxoL",
        "outputId": "062db69c-94a1-438f-baa7-408844a6b0e5"
      },
      "execution_count": null,
      "outputs": [
        {
          "output_type": "stream",
          "name": "stdout",
          "text": [
            "[Iteration] 0 [Cost] 0.9457800984382629 [Cost] nan\n",
            "[Iteration] 100 [Cost] 0.6171383261680603 [Cost] nan\n",
            "[Iteration] 200 [Cost] 0.6101185083389282 [Cost] nan\n",
            "[Iteration] 300 [Cost] 0.6070127487182617 [Cost] nan\n",
            "[Iteration] 400 [Cost] 0.6048434972763062 [Cost] nan\n",
            "[Iteration] 500 [Cost] 0.6029143333435059 [Cost] nan\n",
            "[Iteration] 600 [Cost] 0.6010671854019165 [Cost] nan\n",
            "[Iteration] 700 [Cost] 0.5992660522460938 [Cost] nan\n",
            "[Iteration] 800 [Cost] 0.5975020527839661 [Cost] nan\n",
            "[Iteration] 900 [Cost] 0.5957726836204529 [Cost] nan\n",
            "[Iteration] 1000 [Cost] 0.5940765738487244 [Cost] nan\n",
            "[Iteration] 1100 [Cost] 0.5924126505851746 [Cost] nan\n",
            "[Iteration] 1200 [Cost] 0.5907804369926453 [Cost] nan\n",
            "[Iteration] 1300 [Cost] 0.5891790390014648 [Cost] nan\n",
            "[Iteration] 1400 [Cost] 0.5876073241233826 [Cost] nan\n",
            "[Iteration] 1500 [Cost] 0.5860651135444641 [Cost] nan\n",
            "[Iteration] 1600 [Cost] 0.584551215171814 [Cost] nan\n",
            "[Iteration] 1700 [Cost] 0.5830650925636292 [Cost] nan\n",
            "[Iteration] 1800 [Cost] 0.5816060900688171 [Cost] nan\n",
            "[Iteration] 1900 [Cost] 0.5801734924316406 [Cost] nan\n",
            "tensor([[0.2270],\n",
            "        [0.3494],\n",
            "        [0.4954],\n",
            "        [0.5603],\n",
            "        [0.5399],\n",
            "        [0.5193],\n",
            "        [0.5635]], grad_fn=<SigmoidBackward0>)\n",
            "tensor([[0.2270],\n",
            "        [0.3494],\n",
            "        [0.4954],\n",
            "        [0.5603],\n",
            "        [0.5399],\n",
            "        [0.5193],\n",
            "        [0.5635]])\n",
            "\n",
            "Test\n",
            "\n",
            "tensor([[0.4987]], grad_fn=<SigmoidBackward0>)\n",
            "tensor([[0.4987]])\n",
            "[Interface Value] 0.4987379014492035\n",
            "[Interface Classification] F\n"
          ]
        }
      ]
    }
  ]
}