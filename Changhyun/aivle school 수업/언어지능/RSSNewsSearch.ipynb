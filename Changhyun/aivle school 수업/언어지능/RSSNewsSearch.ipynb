{
 "cells": [
  {
   "cell_type": "code",
   "execution_count": null,
   "metadata": {
    "colab": {
     "base_uri": "https://localhost:8080/"
    },
    "id": "BkRiJrJt4UQ4",
    "outputId": "9fa2e8e7-725b-48a9-c748-25f3991031a8"
   },
   "outputs": [
    {
     "name": "stdout",
     "output_type": "stream",
     "text": [
      "Collecting feedparser\n",
      "  Downloading feedparser-6.0.11-py3-none-any.whl.metadata (2.4 kB)\n",
      "Collecting sgmllib3k (from feedparser)\n",
      "  Downloading sgmllib3k-1.0.0.tar.gz (5.8 kB)\n",
      "  Preparing metadata (setup.py) ... \u001b[?25l\u001b[?25hdone\n",
      "Downloading feedparser-6.0.11-py3-none-any.whl (81 kB)\n",
      "\u001b[2K   \u001b[90m━━━━━━━━━━━━━━━━━━━━━━━━━━━━━━━━━━━━━━━━\u001b[0m \u001b[32m81.3/81.3 kB\u001b[0m \u001b[31m1.5 MB/s\u001b[0m eta \u001b[36m0:00:00\u001b[0m\n",
      "\u001b[?25hBuilding wheels for collected packages: sgmllib3k\n",
      "  Building wheel for sgmllib3k (setup.py) ... \u001b[?25l\u001b[?25hdone\n",
      "  Created wheel for sgmllib3k: filename=sgmllib3k-1.0.0-py3-none-any.whl size=6047 sha256=1dc79848a3250ac80875cad590ce40dadd8252be5e719ec567727a4bdf63b3fc\n",
      "  Stored in directory: /root/.cache/pip/wheels/f0/69/93/a47e9d621be168e9e33c7ce60524393c0b92ae83cf6c6e89c5\n",
      "Successfully built sgmllib3k\n",
      "Installing collected packages: sgmllib3k, feedparser\n",
      "Successfully installed feedparser-6.0.11 sgmllib3k-1.0.0\n",
      "Collecting newspaper3k\n",
      "  Downloading newspaper3k-0.2.8-py3-none-any.whl.metadata (11 kB)\n",
      "Requirement already satisfied: beautifulsoup4>=4.4.1 in /usr/local/lib/python3.10/dist-packages (from newspaper3k) (4.12.3)\n",
      "Requirement already satisfied: Pillow>=3.3.0 in /usr/local/lib/python3.10/dist-packages (from newspaper3k) (10.4.0)\n",
      "Requirement already satisfied: PyYAML>=3.11 in /usr/local/lib/python3.10/dist-packages (from newspaper3k) (6.0.2)\n",
      "Collecting cssselect>=0.9.2 (from newspaper3k)\n",
      "  Downloading cssselect-1.2.0-py2.py3-none-any.whl.metadata (2.2 kB)\n",
      "Requirement already satisfied: lxml>=3.6.0 in /usr/local/lib/python3.10/dist-packages (from newspaper3k) (5.3.0)\n",
      "Requirement already satisfied: nltk>=3.2.1 in /usr/local/lib/python3.10/dist-packages (from newspaper3k) (3.8.1)\n",
      "Requirement already satisfied: requests>=2.10.0 in /usr/local/lib/python3.10/dist-packages (from newspaper3k) (2.32.3)\n",
      "Requirement already satisfied: feedparser>=5.2.1 in /usr/local/lib/python3.10/dist-packages (from newspaper3k) (6.0.11)\n",
      "Collecting tldextract>=2.0.1 (from newspaper3k)\n",
      "  Downloading tldextract-5.1.3-py3-none-any.whl.metadata (11 kB)\n",
      "Collecting feedfinder2>=0.0.4 (from newspaper3k)\n",
      "  Downloading feedfinder2-0.0.4.tar.gz (3.3 kB)\n",
      "  Preparing metadata (setup.py) ... \u001b[?25l\u001b[?25hdone\n",
      "Collecting jieba3k>=0.35.1 (from newspaper3k)\n",
      "  Downloading jieba3k-0.35.1.zip (7.4 MB)\n",
      "\u001b[2K     \u001b[90m━━━━━━━━━━━━━━━━━━━━━━━━━━━━━━━━━━━━━━━━\u001b[0m \u001b[32m7.4/7.4 MB\u001b[0m \u001b[31m37.9 MB/s\u001b[0m eta \u001b[36m0:00:00\u001b[0m\n",
      "\u001b[?25h  Preparing metadata (setup.py) ... \u001b[?25l\u001b[?25hdone\n",
      "Requirement already satisfied: python-dateutil>=2.5.3 in /usr/local/lib/python3.10/dist-packages (from newspaper3k) (2.8.2)\n",
      "Collecting tinysegmenter==0.3 (from newspaper3k)\n",
      "  Downloading tinysegmenter-0.3.tar.gz (16 kB)\n",
      "  Preparing metadata (setup.py) ... \u001b[?25l\u001b[?25hdone\n",
      "Requirement already satisfied: soupsieve>1.2 in /usr/local/lib/python3.10/dist-packages (from beautifulsoup4>=4.4.1->newspaper3k) (2.6)\n",
      "Requirement already satisfied: six in /usr/local/lib/python3.10/dist-packages (from feedfinder2>=0.0.4->newspaper3k) (1.16.0)\n",
      "Requirement already satisfied: sgmllib3k in /usr/local/lib/python3.10/dist-packages (from feedparser>=5.2.1->newspaper3k) (1.0.0)\n",
      "Requirement already satisfied: click in /usr/local/lib/python3.10/dist-packages (from nltk>=3.2.1->newspaper3k) (8.1.7)\n",
      "Requirement already satisfied: joblib in /usr/local/lib/python3.10/dist-packages (from nltk>=3.2.1->newspaper3k) (1.4.2)\n",
      "Requirement already satisfied: regex>=2021.8.3 in /usr/local/lib/python3.10/dist-packages (from nltk>=3.2.1->newspaper3k) (2024.9.11)\n",
      "Requirement already satisfied: tqdm in /usr/local/lib/python3.10/dist-packages (from nltk>=3.2.1->newspaper3k) (4.66.6)\n",
      "Requirement already satisfied: charset-normalizer<4,>=2 in /usr/local/lib/python3.10/dist-packages (from requests>=2.10.0->newspaper3k) (3.4.0)\n",
      "Requirement already satisfied: idna<4,>=2.5 in /usr/local/lib/python3.10/dist-packages (from requests>=2.10.0->newspaper3k) (3.10)\n",
      "Requirement already satisfied: urllib3<3,>=1.21.1 in /usr/local/lib/python3.10/dist-packages (from requests>=2.10.0->newspaper3k) (2.2.3)\n",
      "Requirement already satisfied: certifi>=2017.4.17 in /usr/local/lib/python3.10/dist-packages (from requests>=2.10.0->newspaper3k) (2024.8.30)\n",
      "Collecting requests-file>=1.4 (from tldextract>=2.0.1->newspaper3k)\n",
      "  Downloading requests_file-2.1.0-py2.py3-none-any.whl.metadata (1.7 kB)\n",
      "Requirement already satisfied: filelock>=3.0.8 in /usr/local/lib/python3.10/dist-packages (from tldextract>=2.0.1->newspaper3k) (3.16.1)\n",
      "Downloading newspaper3k-0.2.8-py3-none-any.whl (211 kB)\n",
      "\u001b[2K   \u001b[90m━━━━━━━━━━━━━━━━━━━━━━━━━━━━━━━━━━━━━━━━\u001b[0m \u001b[32m211.1/211.1 kB\u001b[0m \u001b[31m13.9 MB/s\u001b[0m eta \u001b[36m0:00:00\u001b[0m\n",
      "\u001b[?25hDownloading cssselect-1.2.0-py2.py3-none-any.whl (18 kB)\n",
      "Downloading tldextract-5.1.3-py3-none-any.whl (104 kB)\n",
      "\u001b[2K   \u001b[90m━━━━━━━━━━━━━━━━━━━━━━━━━━━━━━━━━━━━━━━━\u001b[0m \u001b[32m104.9/104.9 kB\u001b[0m \u001b[31m6.3 MB/s\u001b[0m eta \u001b[36m0:00:00\u001b[0m\n",
      "\u001b[?25hDownloading requests_file-2.1.0-py2.py3-none-any.whl (4.2 kB)\n",
      "Building wheels for collected packages: tinysegmenter, feedfinder2, jieba3k\n",
      "  Building wheel for tinysegmenter (setup.py) ... \u001b[?25l\u001b[?25hdone\n",
      "  Created wheel for tinysegmenter: filename=tinysegmenter-0.3-py3-none-any.whl size=13539 sha256=507587e0d46d358bf02bfdf186bbde172d3813a5e71510cf8925f327c32eb409\n",
      "  Stored in directory: /root/.cache/pip/wheels/c8/d6/6c/384f58df48c00b9a31d638005143b5b3ac62c3d25fb1447f23\n",
      "  Building wheel for feedfinder2 (setup.py) ... \u001b[?25l\u001b[?25hdone\n",
      "  Created wheel for feedfinder2: filename=feedfinder2-0.0.4-py3-none-any.whl size=3342 sha256=1a7a19f9b3602f4946a019f7173827186ef2c856e2fff4da96075e6d54be3e75\n",
      "  Stored in directory: /root/.cache/pip/wheels/97/02/e7/a1ff1760e12bdbaab0ac824fae5c1bc933e41c4ccd6a8f8edb\n",
      "  Building wheel for jieba3k (setup.py) ... \u001b[?25l\u001b[?25hdone\n",
      "  Created wheel for jieba3k: filename=jieba3k-0.35.1-py3-none-any.whl size=7398379 sha256=b384bd452d464c7181c386b014d5b03b11fae5119f7ca6690c89cc4e836b34fd\n",
      "  Stored in directory: /root/.cache/pip/wheels/7a/c4/0c/12a9a314ecac499456c4c3b2fcc2f635a3b45a39dfbd240299\n",
      "Successfully built tinysegmenter feedfinder2 jieba3k\n",
      "Installing collected packages: tinysegmenter, jieba3k, cssselect, requests-file, feedfinder2, tldextract, newspaper3k\n",
      "Successfully installed cssselect-1.2.0 feedfinder2-0.0.4 jieba3k-0.35.1 newspaper3k-0.2.8 requests-file-2.1.0 tinysegmenter-0.3 tldextract-5.1.3\n",
      "Collecting konlpy\n",
      "  Downloading konlpy-0.6.0-py2.py3-none-any.whl.metadata (1.9 kB)\n",
      "Collecting JPype1>=0.7.0 (from konlpy)\n",
      "  Downloading JPype1-1.5.0-cp310-cp310-manylinux_2_17_x86_64.manylinux2014_x86_64.whl.metadata (4.9 kB)\n",
      "Requirement already satisfied: lxml>=4.1.0 in /usr/local/lib/python3.10/dist-packages (from konlpy) (5.3.0)\n",
      "Requirement already satisfied: numpy>=1.6 in /usr/local/lib/python3.10/dist-packages (from konlpy) (1.26.4)\n",
      "Requirement already satisfied: packaging in /usr/local/lib/python3.10/dist-packages (from JPype1>=0.7.0->konlpy) (24.1)\n",
      "Downloading konlpy-0.6.0-py2.py3-none-any.whl (19.4 MB)\n",
      "\u001b[2K   \u001b[90m━━━━━━━━━━━━━━━━━━━━━━━━━━━━━━━━━━━━━━━━\u001b[0m \u001b[32m19.4/19.4 MB\u001b[0m \u001b[31m83.6 MB/s\u001b[0m eta \u001b[36m0:00:00\u001b[0m\n",
      "\u001b[?25hDownloading JPype1-1.5.0-cp310-cp310-manylinux_2_17_x86_64.manylinux2014_x86_64.whl (488 kB)\n",
      "\u001b[2K   \u001b[90m━━━━━━━━━━━━━━━━━━━━━━━━━━━━━━━━━━━━━━━━\u001b[0m \u001b[32m488.6/488.6 kB\u001b[0m \u001b[31m27.5 MB/s\u001b[0m eta \u001b[36m0:00:00\u001b[0m\n",
      "\u001b[?25hInstalling collected packages: JPype1, konlpy\n",
      "Successfully installed JPype1-1.5.0 konlpy-0.6.0\n",
      "Requirement already satisfied: lxml[html_clean] in /usr/local/lib/python3.10/dist-packages (5.3.0)\n",
      "Collecting lxml-html-clean (from lxml[html_clean])\n",
      "  Downloading lxml_html_clean-0.3.1-py3-none-any.whl.metadata (2.4 kB)\n",
      "Downloading lxml_html_clean-0.3.1-py3-none-any.whl (13 kB)\n",
      "Installing collected packages: lxml-html-clean\n",
      "Successfully installed lxml-html-clean-0.3.1\n"
     ]
    }
   ],
   "source": [
    "!pip install feedparser # RSS에서 XML 태그별 정보 추출\n",
    "!pip install newspaper3k #인터넷신문기사 분석 (Ariticle() 사용하기 위한 목적)\n",
    "!pip install konlpy # 우리말 형태소 분석 (주어진 문장에서 명사만 추출할 목적)\n",
    "!pip install lxml[html_clean]\n",
    "\n",
    "import feedparser\n",
    "from newspaper import Article\n",
    "from konlpy.tag import Okt\n",
    "\n",
    "from collections import Counter\n",
    "\n",
    "import hashlib # 해시 키 만들기 용\n",
    "\n",
    "# from bs4 import BeautifulSoup # 명사 추출 후 출현 빈도 확인용(TF 구현용)"
   ]
  },
  {
   "cell_type": "code",
   "execution_count": null,
   "metadata": {
    "colab": {
     "base_uri": "https://localhost:8080/"
    },
    "id": "BY8C78zm6xwo",
    "outputId": "5cf9156d-0ff1-4fce-debc-9575f9de37dc"
   },
   "outputs": [
    {
     "name": "stdout",
     "output_type": "stream",
     "text": [
      "[Crawl RSS] https://rss.etnews.com/Section901.xml\n",
      "[Crawl RSS] https://rss.etnews.com/Section902.xml\n",
      "[Crawl RSS] https://rss.etnews.com/Section903.xml\n",
      "[Crawl RSS] https://rss.etnews.com/Section904.xml\n",
      "[{'title': \"위고페어, '원클릭 위조상품 신고서비스' 출시\", 'link': 'https://www.etnews.com/20241105000329'}, {'title': \"쿠팡, 3분기 매출 10조6900억 '역대 최대'...고객도 11% 증가\", 'link': 'https://www.etnews.com/20241106000001'}, {'title': \"'장 담그기' 유네스코 인류무형유산으로… “밥·김치 등 韓 문화의 핵심”\", 'link': 'https://www.etnews.com/20241105000378'}, {'title': '막오른 `미국의 선택`...해리스-트럼프 초접전', 'link': 'https://www.etnews.com/20241105000263'}, {'title': \"日 “공주는 안돼”… 유엔 '여성 왕위 계승' 권고 사실상 거부\", 'link': 'https://www.etnews.com/20241105000379'}, {'title': '축구장에 날벼락…페루 선수 8명 쓰러졌다', 'link': 'https://www.etnews.com/20241105000371'}, {'title': \"美 뉴욕서 6명 목숨 앗아간 '지하철 서핑'… 과연 뭐길래?\", 'link': 'https://www.etnews.com/20241105000253'}, {'title': '짐 켈러·조주완 CEO 회동…텐스토렌트·LG전자 투자 협력 논의', 'link': 'https://www.etnews.com/20241105000404'}, {'title': \"'금투세 폐지', 이번달 처리 될까…'김건희 특검·이재명 1심' 막판 변수\", 'link': 'https://www.etnews.com/20241105000115'}, {'title': \"배달 상생협의체, 일부 단체 '요지부동'에 공회전…“수수료 5% 고수 비현실적” 지적\", 'link': 'https://www.etnews.com/20241105000374'}, {'title': '임기 반환점 尹정부, 원전 계속운전 20년↑·상속세율 ↓', 'link': 'https://www.etnews.com/20241105000310'}, {'title': '외산 장비 설 곳 잃어가는 中 반도체 시장', 'link': 'https://www.etnews.com/20241105000240'}, {'title': '4억원 람보르기니 들이받은 아반떼···무슨 일? [숏폼]', 'link': 'https://www.etnews.com/20241104000451'}, {'title': \"연이은 북미행 '항공 소포' 테러… 배후는 러시아?\", 'link': 'https://www.etnews.com/20241105000350'}, {'title': '韓·美, 원자력수출협력 합의…산업부 “제2 웨스팅하우스 분쟁 막는다”', 'link': 'https://www.etnews.com/20241105000334'}, {'title': '[2024 美 대선] 역대급 사전투표율…승자 확정 얼마나 걸릴까', 'link': 'https://www.etnews.com/20241105000333'}, {'title': \"'스마트병원' 진화하는 한림대의료원…진료·회진 이어 상담까지 비대면\", 'link': 'https://www.etnews.com/20241105000255'}, {'title': '삼성전자·LG전자, 내년 TV OS 확대 …보급형 라인업도 늘릴 듯', 'link': 'https://www.etnews.com/20241105000225'}, {'title': \"중국, EU '중국산 전기차 고율 관세' WTO에 추가 제소\", 'link': 'https://www.etnews.com/20241105000303'}, {'title': \"벤츠, BMW 제치고 두 달 연속 수입차 판매 '1위'\", 'link': 'https://www.etnews.com/20241105000300'}, {'title': 'SK하이닉스 “HBM3E 16단 패키징 수율 문제 없다”', 'link': 'https://www.etnews.com/20241105000299'}, {'title': 'LG엔솔, 배터리SW 사업화…현대차와 사용료 협상', 'link': 'https://www.etnews.com/20241105000298'}, {'title': '서초 서리풀 그린벨트 푼다…고양·의왕·의정부 신규택지 5만호 공급', 'link': 'https://www.etnews.com/20241105000296'}, {'title': '“진단검사 디지털 전환으로 의료 빅데이터 역할 커져”', 'link': 'https://www.etnews.com/20241105000264'}, {'title': \"롯데免, 공항공사와 '임대료 감면 소송' 끝까지 간다…양측 모두 대법원 상고\", 'link': 'https://www.etnews.com/20241105000244'}, {'title': '네이버 치지직, 동시 시청자 40만명 돌파…“롤드컵 특수” 톡톡', 'link': 'https://www.etnews.com/20241105000237'}, {'title': '[약자동행, 서울형 R&D]〈9〉퓨렌스, AI로 음성데이터 속 개인정보도 안전 관리', 'link': 'https://www.etnews.com/20241105000103'}, {'title': '한동훈, 尹 대국민 담화에 “국민 눈높이에 맞아야”', 'link': 'https://www.etnews.com/20241105000294'}, {'title': '수능 D-9…“시험장 휴대전화·태블릿 반입 NO”', 'link': 'https://www.etnews.com/20241105000272'}, {'title': \"KT, '온디바이스 AI'에 '8K 화질' 더한 셋톱박스 공개…“IPTV를 AI 허브로”\", 'link': 'https://www.etnews.com/20241105000267'}, {'title': \"삼성화재, 삼성서울병원과 '암극복 토크콘서트' 개최\", 'link': 'https://www.etnews.com/20241106000037'}, {'title': '모빌리티용 수소 소비 59% 증가...“수급은 안정”', 'link': 'https://www.etnews.com/20241106000036'}, {'title': '에이직랜드-대만 이지스테크, AI 서버 칩 개발', 'link': 'https://www.etnews.com/20241106000035'}, {'title': '송삼종 국립부산과학관 제4대 관장 취임', 'link': 'https://www.etnews.com/20241106000034'}, {'title': '칩스앤미디어, TSMC 3나노 테스트 지원', 'link': 'https://www.etnews.com/20241106000033'}, {'title': \"경북도, '2024 대한민국 지방시대 엑스포' 참가…경북 주요 시책 홍보\", 'link': 'https://www.etnews.com/20241106000032'}, {'title': '“11월 22일은 김치의 날”…김치연, 국민과 함께 하는 위킴 페스티벌 개최', 'link': 'https://www.etnews.com/20241106000031'}, {'title': \"카카오, 티스토리 '오블완 챌린지'…“하루 1개 글쓰기 도전”\", 'link': 'https://www.etnews.com/20241106000030'}, {'title': '호갱노노, 10월 인기 아파트 랭킹 공개…잠실래미안아이파크 1위', 'link': 'https://www.etnews.com/20241106000029'}, {'title': \"삼양그룹, '삼양 이노베이션 R&D 페어 2024' 개최\", 'link': 'https://www.etnews.com/20241106000027'}, {'title': '포스텍, 태양열 조절해 투명한 복사냉각 필름 개발', 'link': 'https://www.etnews.com/20241106000026'}, {'title': \"전남정보문화산업진흥원 입주기업 '남도소반', 말레이시아 기업과 수출 MOU 체결\", 'link': 'https://www.etnews.com/20241106000025'}, {'title': \"알바천국, '오늘부터 매일 크리스마스' 이벤트\", 'link': 'https://www.etnews.com/20241106000024'}, {'title': \"현대캐피탈 '더 뉴 스포티지' 특화 할부 서비스 론칭\", 'link': 'https://www.etnews.com/20241106000023'}, {'title': '온다, 태국 베스트 웨스턴 호텔 전지점 유통 계약', 'link': 'https://www.etnews.com/20241106000021'}, {'title': \"당근 “'모범 구인자 배지' 제도 안착”\", 'link': 'https://www.etnews.com/20241106000020'}, {'title': '사람인, 개인정보보호 수준 향상…강화된 안전조치 도입', 'link': 'https://www.etnews.com/20241106000018'}, {'title': '비즈니스 혁신하는 통합 솔루션 네이버웍스', 'link': 'https://www.etnews.com/20241106000017'}, {'title': '6.7대1 경쟁률 뚫고 경남 제조기업 R&D 역량 과시', 'link': 'https://www.etnews.com/20241106000016'}, {'title': \"BAT로스만스 글로, 반얀트리 '문 바'와 스페셜 프로모션\", 'link': 'https://www.etnews.com/20241106000015'}, {'title': \"인터파크 투어, 'W아이 겨울방학 영어캠프' 상품 출시\", 'link': 'https://www.etnews.com/20241106000014'}, {'title': \"에이스침대, '한국품질만족지수' 침대 부문 1위 수상…19년 연속\", 'link': 'https://www.etnews.com/20241106000013'}, {'title': \"한국뇌연구원, 6일 '2024 국제 뇌지질체 심포지움'…글로벌 뇌성분 분석 플랫폼 구축 강화\", 'link': 'https://www.etnews.com/20241106000012'}, {'title': \"인디제이, '눈치 AI' 기반 차량용 인포테인먼트 비서 서비스 출시\", 'link': 'https://www.etnews.com/20241106000011'}, {'title': \"홈앤쇼핑, 이미용 특화 프로그램 '뷰티상담소' 인기\", 'link': 'https://www.etnews.com/20241106000010'}, {'title': \"GIST-서울대병원, '비용은 줄이고, 정확도는 높인' 3D 암 게놈 예측 AI 기술 개발\", 'link': 'https://www.etnews.com/20241106000008'}, {'title': \"세븐일레븐, 업계 최초 '정온 푸드 운영 모델'…“데우지 않는 간편식”\", 'link': 'https://www.etnews.com/20241106000007'}, {'title': '클라우다이크, ICT특허경영 대상 특허청장 표창 수상', 'link': 'https://www.etnews.com/20241105000348'}, {'title': '어드밴텍, 모듈형 HMI TPC-B 시리즈 패널PC 라인업 출시', 'link': 'https://www.etnews.com/20241105000327'}, {'title': '수입차도 30% 싸게…연말 車 역대급 할인', 'link': 'https://www.etnews.com/20241104000314'}, {'title': \"세계 2위 폭스바겐 위기…3위 현대차 추격에 '지각변동' 예고\", 'link': 'https://www.etnews.com/20241101000194'}, {'title': '[2024 美 대선] 선택의 날 밝았다…해리스·트럼프 막판까지 초접전', 'link': 'https://www.etnews.com/20241104000315'}, {'title': \"쿠팡, '블랙 프라이데이' 앞두고 가전·디지털 할인전…최대 75% 세일\", 'link': 'https://www.etnews.com/20241104000290'}, {'title': '삼성 반도체, 전영현 주재 릴레이 임원 토론회…위기 돌파 해법 모색', 'link': 'https://www.etnews.com/20241103000070'}, {'title': '태성, 유리기판 식각장비 개발', 'link': 'https://www.etnews.com/20241103000013'}, {'title': 'LG화학 vs 재세능원 양극재 특허 분쟁 1라운드 이달 판정', 'link': 'https://www.etnews.com/20241101000130'}, {'title': 'SK온, 닛산 배터리 공급 임박…북미 생산 공장 물색', 'link': 'https://www.etnews.com/20241101000267'}, {'title': '[르포] “농심 구미 공장서 갓 튀겨낸 라면 맛보세요”…라면의 도시 구미 가보니', 'link': 'https://www.etnews.com/20241102000014'}, {'title': '민주당 금투세 폐지 동의 꺼내자…국내증시 급상승 코스닥 3%↑', 'link': 'https://www.etnews.com/20241104000261'}, {'title': '최태원 회장 “엔비디아에 HBM4 조기 공급...협력 통해 AI 병목 해결”', 'link': 'https://www.etnews.com/20241104000312'}, {'title': '[입장전문] 라이즈 글로벌 팬덤, 로펌 통해 SM 규탄 \"승한 보호하지 않았다\"', 'link': 'https://www.etnews.com/20241105000241'}, {'title': 'LG화학, 지방분해주사 시장점유율 높여', 'link': 'https://www.etnews.com/20241104000330'}, {'title': '녹취록 침묵 깬 한동훈 “尹 대국민 사과·참모진 전면 개편해야”', 'link': 'https://www.etnews.com/20241104000098'}, {'title': 'BYD, 영등포에 국내 첫 전기승용차 서비스센터 연다', 'link': 'https://www.etnews.com/20241104000263'}, {'title': '세계서 가장 큰 악어, 110살 넘게 살다 자연사 [숏폼]', 'link': 'https://www.etnews.com/20241104000445'}, {'title': \"에스넷시스템, 한국클라우드산업협회 '제9회 PaaS 지원분과위원회' 개최\", 'link': 'https://www.etnews.com/20241104000099'}]\n"
     ]
    }
   ],
   "source": [
    "# 1. 모든 RSS 파일(xml 형식)을 돌아다니면서 기사의 제목/link를 추출\n",
    "# urls에 우리가 검색할 RSS파일들의 주소를 list로\n",
    "urls = [\"https://rss.etnews.com/Section901.xml\",\n",
    "        \"https://rss.etnews.com/Section902.xml\",\n",
    "        \"https://rss.etnews.com/Section903.xml\",\n",
    "        \"https://rss.etnews.com/Section904.xml\",\n",
    "        ]\n",
    "\n",
    "# 아래 함수는 RSS 목록의 list인 urls를 받아서\n",
    "# 해당 urls 내에 존재하는 title과 link를 추출\n",
    "def crawl_rss(urls):\n",
    "    array_rss = []  # title과 link가 들어갈 list\n",
    "    seen_titles = set()  # 중복 검사를 위한 set\n",
    "\n",
    "    for index_url in urls:  # urls 내의 url들을 순회\n",
    "        print(\"[Crawl RSS]\", index_url)\n",
    "        parse_rss = feedparser.parse(index_url)  # 현재 xml 파싱 후 결과를 parse_rss에 저장\n",
    "\n",
    "        for p in parse_rss.entries:  # parse 후 모든 entry 순회\n",
    "            # title을 해시화한 후 중복 검사\n",
    "            # 해시화 하는 건 그냥 평문보다는 이뻐서 했음\n",
    "            title_hash = hashlib.sha256(p.title.encode()).hexdigest()\n",
    "            if title_hash not in seen_titles:  # 중복되지 않은 경우만 추가\n",
    "                seen_titles.add(title_hash)\n",
    "                array_rss.append({'title': p.title, 'link': p.link})\n",
    "\n",
    "    return array_rss\n",
    "\n",
    "\n",
    "list_articls = crawl_rss(urls)\n",
    "print(list_articls)"
   ]
  },
  {
   "cell_type": "code",
   "execution_count": null,
   "metadata": {
    "colab": {
     "base_uri": "https://localhost:8080/"
    },
    "id": "SzpJ_v6L8vqc",
    "outputId": "50c0c64c-7e06-43e4-861f-0e263bdd8cb4"
   },
   "outputs": [
    {
     "name": "stdout",
     "output_type": "stream",
     "text": [
      "[Crawl Article] https://www.etnews.com/20241105000329\n",
      "(\"위고페어, '원클릭 위조상품 신고서비스' 출시\", \"상품 URL만 올리면 전 세계 온라인마켓 위조품 신고 끝\\n\\n인공지능(AI) 기반 위조상품 모니터링 및 차단 플랫폼을 운영하는 위고페어가 URL만 입력하면 간편하게 위조상품 신고할 수 있는 '원클릭 위조상품 신고 서비스'를 출시했다고 6일 밝혔다.\\n\\n\\n\\n'원클릭 위조상품 신고 서비스'는 위조품 판매 페이지 URL 입력만으로 위조상품 신고가 완료되어 전문지식이 없어도 누구나 쉽게 이용할 수 있다. 일명 '가품' 또는 '짝퉁'이라고 불리는 위조상품이 판매되는 것을 알고 있어도 플랫폼별로 상이한 신고 절차, 언어 장벽, 복잡한 신고 프로세스 등으로 대응을 못해 어려움을 겪던 기업들이 보다 쉽게 브랜드를 보호할 수 있도록 설계됐다. 특히 건별 신고 및 결제가 가능해 기업의 비용 부담을 대폭 줄인 것이 특징이다.\\n\\n\\n\\n위고페어 '원클릭 위조상품 신고'서비스는 국내뿐 아니라 다양한 글로벌 쇼핑몰에서 우리 기업의 브랜드 보호를 지원한다. 네이버, 쿠팡 등을 비롯해 알리바바, 테무, 쉬인 등 중국의 주요 이커머스 플랫폼은 물론, 쇼피, 라자다와 같은 동남아 플랫폼, 아마존, 이베이 등 글로벌 플랫폼의 위조상품까지 모두 신고가 가능하다.\\n\\n\\n\\n변리사와 지식재산보호원 위조상품 단속팀 출신 전문가들이 직접 신고 프로세스를 관리해 99%의 위조상품 차단 실적을 자랑한다. 기업별 전담 매니저를 배정해 맞춤형 서비스를 신속하게 제공한다.\\n\\n\\n\\n김종면 위고페어 CEO는 “위조상품 유통은 기업의 브랜드 이미지 훼손뿐만 아니라 매출 손실, 일자리 감소, 세수 감소 등 국가 경제에도 심각한 피해를 주고 있다”라며 “위고페어는 최첨단 AI 기술과 글로벌 플랫폼 위조품 차단 실무 경험을 보유한 전문 인력들을 바탕으로 우리 기업들의 브랜드를 효과적으로 보호하겠다”고 강조했다.\\n\\n\\n\\n위고페어는 '원클릭 위조상품 신고 서비스'의 출시를 기념해 12월까지 3건의 무료 신고 서비스를 제공하는 프로모션을 진행한다. 자세한 내용은 위고페어 홈페이지에서 확인할 수 있으며, 신청을 통해 위고페어의 AI 특허기술을 통한 위조상품 차단 서비스를 직접 체험해 볼 수 있다.\\n\\n\\n\\n김정희 기자 jhakim@etnews.com\")\n"
     ]
    }
   ],
   "source": [
    "# RSS에서 추출한 기사 list에서 본문 title과 text를 추출\n",
    "# 아래의 함수는 하나의 url을 입력 받아, 그 안의 title과 text를  추출하게 됨.\n",
    "def crawl_article(url, languege='ko'):\n",
    "    print(\"[Crawl Article]\", url) # 현재 url\n",
    "    a = Article(url, languege = languege) # Ariticle에 url과 언어옵션 지정\n",
    "    a.download() # 해당 url의 기사 다운로드\n",
    "    a.parse() # parsing!\n",
    "    return a.title, a.text\n",
    "\n",
    "print(crawl_article(list_articls[0]['link']))"
   ]
  },
  {
   "cell_type": "code",
   "execution_count": null,
   "metadata": {
    "colab": {
     "base_uri": "https://localhost:8080/"
    },
    "id": "s4zprUYv8viV",
    "outputId": "578abb45-1c8a-4445-e96c-d7bdb80a7855"
   },
   "outputs": [
    {
     "name": "stdout",
     "output_type": "stream",
     "text": [
      "[Crawl Article] https://www.etnews.com/20241105000329\n",
      "[Crawl Article] https://www.etnews.com/20241106000001\n",
      "[Crawl Article] https://www.etnews.com/20241105000378\n",
      "[Crawl Article] https://www.etnews.com/20241105000263\n",
      "[Crawl Article] https://www.etnews.com/20241105000379\n",
      "[Crawl Article] https://www.etnews.com/20241105000371\n",
      "[Crawl Article] https://www.etnews.com/20241105000253\n",
      "[Crawl Article] https://www.etnews.com/20241105000404\n",
      "[Crawl Article] https://www.etnews.com/20241105000115\n",
      "[Crawl Article] https://www.etnews.com/20241105000374\n",
      "[Crawl Article] https://www.etnews.com/20241105000310\n",
      "[Crawl Article] https://www.etnews.com/20241105000240\n",
      "[Crawl Article] https://www.etnews.com/20241104000451\n",
      "[Crawl Article] https://www.etnews.com/20241105000350\n",
      "[Crawl Article] https://www.etnews.com/20241105000334\n",
      "[Crawl Article] https://www.etnews.com/20241105000333\n",
      "[Crawl Article] https://www.etnews.com/20241105000255\n",
      "[Crawl Article] https://www.etnews.com/20241105000225\n",
      "[Crawl Article] https://www.etnews.com/20241105000303\n",
      "[Crawl Article] https://www.etnews.com/20241105000300\n",
      "[Crawl Article] https://www.etnews.com/20241105000299\n",
      "[Crawl Article] https://www.etnews.com/20241105000298\n",
      "[Crawl Article] https://www.etnews.com/20241105000296\n",
      "[Crawl Article] https://www.etnews.com/20241105000264\n",
      "[Crawl Article] https://www.etnews.com/20241105000244\n",
      "[Crawl Article] https://www.etnews.com/20241105000237\n",
      "[Crawl Article] https://www.etnews.com/20241105000103\n",
      "[Crawl Article] https://www.etnews.com/20241105000294\n",
      "[Crawl Article] https://www.etnews.com/20241105000272\n",
      "[Crawl Article] https://www.etnews.com/20241105000267\n",
      "[Crawl Article] https://www.etnews.com/20241106000037\n",
      "[Crawl Article] https://www.etnews.com/20241106000036\n",
      "[Crawl Article] https://www.etnews.com/20241106000035\n",
      "[Crawl Article] https://www.etnews.com/20241106000034\n",
      "[Crawl Article] https://www.etnews.com/20241106000033\n",
      "[Crawl Article] https://www.etnews.com/20241106000032\n",
      "[Crawl Article] https://www.etnews.com/20241106000031\n",
      "[Crawl Article] https://www.etnews.com/20241106000030\n",
      "[Crawl Article] https://www.etnews.com/20241106000029\n",
      "[Crawl Article] https://www.etnews.com/20241106000027\n",
      "[Crawl Article] https://www.etnews.com/20241106000026\n",
      "[Crawl Article] https://www.etnews.com/20241106000025\n",
      "[Crawl Article] https://www.etnews.com/20241106000024\n",
      "[Crawl Article] https://www.etnews.com/20241106000023\n",
      "[Crawl Article] https://www.etnews.com/20241106000021\n",
      "[Crawl Article] https://www.etnews.com/20241106000020\n",
      "[Crawl Article] https://www.etnews.com/20241106000018\n",
      "[Crawl Article] https://www.etnews.com/20241106000017\n",
      "[Crawl Article] https://www.etnews.com/20241106000016\n",
      "[Crawl Article] https://www.etnews.com/20241106000015\n",
      "[Crawl Article] https://www.etnews.com/20241106000014\n",
      "[Crawl Article] https://www.etnews.com/20241106000013\n",
      "[Crawl Article] https://www.etnews.com/20241106000012\n",
      "[Crawl Article] https://www.etnews.com/20241106000011\n",
      "[Crawl Article] https://www.etnews.com/20241106000010\n",
      "[Crawl Article] https://www.etnews.com/20241106000008\n",
      "[Crawl Article] https://www.etnews.com/20241106000007\n",
      "[Crawl Article] https://www.etnews.com/20241105000348\n",
      "[Crawl Article] https://www.etnews.com/20241105000327\n",
      "[Crawl Article] https://www.etnews.com/20241104000314\n",
      "[Crawl Article] https://www.etnews.com/20241101000194\n",
      "[Crawl Article] https://www.etnews.com/20241104000315\n",
      "[Crawl Article] https://www.etnews.com/20241104000290\n",
      "[Crawl Article] https://www.etnews.com/20241103000070\n",
      "[Crawl Article] https://www.etnews.com/20241103000013\n",
      "[Crawl Article] https://www.etnews.com/20241101000130\n",
      "[Crawl Article] https://www.etnews.com/20241101000267\n",
      "[Crawl Article] https://www.etnews.com/20241102000014\n",
      "[Crawl Article] https://www.etnews.com/20241104000261\n",
      "[Crawl Article] https://www.etnews.com/20241104000312\n",
      "[Crawl Article] https://www.etnews.com/20241105000241\n",
      "[Crawl Article] https://www.etnews.com/20241104000330\n",
      "[Crawl Article] https://www.etnews.com/20241104000098\n",
      "[Crawl Article] https://www.etnews.com/20241104000263\n",
      "[Crawl Article] https://www.etnews.com/20241104000445\n",
      "[Crawl Article] https://www.etnews.com/20241104000099\n",
      "상품 URL만 올리면 전 세계 온라인마켓 위조품 신고 끝\n",
      "\n",
      "인공지능(AI) 기반 위조상품 모니터링 및 차단 플랫폼을 운영하는 위고페어가 URL만 입력하면 간편하게 위조상품 신고할 수 있는 '원클릭 위조상품 신고 서비스'를 출시했다고 6일 밝혔다.\n",
      "\n",
      "\n",
      "\n",
      "'원클릭 위조상품 신고 서비스'는 위조품 판매 페이지 URL 입력만으로 위조상품 신고가 완료되어 전문지식이 없어도 누구나 쉽게 이용할 수 있다. 일명 '가품' 또는 '짝퉁'이라고 불리는 위조상품이 판매되는 것을 알고 있어도 플랫폼별로 상이한 신고 절차, 언어 장벽, 복잡한 신고 프로세스 등으로 대응을 못해 어려움을 겪던 기업들이 보다 쉽게 브랜드를 보호할 수 있도록 설계됐다. 특히 건별 신고 및 결제가 가능해 기업의 비용 부담을 대폭 줄인 것이 특징이다.\n",
      "\n",
      "\n",
      "\n",
      "위고페어 '원클릭 위조상품 신고'서비스는 국내뿐 아니라 다양한 글로벌 쇼핑몰에서 우리 기업의 브랜드 보호를 지원한다. 네이버, 쿠팡 등을 비롯해 알리바바, 테무, 쉬인 등 중국의 주요 이커머스 플랫폼은 물론, 쇼피, 라자다와 같은 동남아 플랫폼, 아마존, 이베이 등 글로벌 플랫폼의 위조상품까지 모두 신고가 가능하다.\n",
      "\n",
      "\n",
      "\n",
      "변리사와 지식재산보호원 위조상품 단속팀 출신 전문가들이 직접 신고 프로세스를 관리해 99%의 위조상품 차단 실적을 자랑한다. 기업별 전담 매니저를 배정해 맞춤형 서비스를 신속하게 제공한다.\n",
      "\n",
      "\n",
      "\n",
      "김종면 위고페어 CEO는 “위조상품 유통은 기업의 브랜드 이미지 훼손뿐만 아니라 매출 손실, 일자리 감소, 세수 감소 등 국가 경제에도 심각한 피해를 주고 있다”라며 “위고페어는 최첨단 AI 기술과 글로벌 플랫폼 위조품 차단 실무 경험을 보유한 전문 인력들을 바탕으로 우리 기업들의 브랜드를 효과적으로 보호하겠다”고 강조했다.\n",
      "\n",
      "\n",
      "\n",
      "위고페어는 '원클릭 위조상품 신고 서비스'의 출시를 기념해 12월까지 3건의 무료 신고 서비스를 제공하는 프로모션을 진행한다. 자세한 내용은 위고페어 홈페이지에서 확인할 수 있으며, 신청을 통해 위고페어의 AI 특허기술을 통한 위조상품 차단 서비스를 직접 체험해 볼 수 있다.\n",
      "\n",
      "\n",
      "\n",
      "김정희 기자 jhakim@etnews.com\n"
     ]
    }
   ],
   "source": [
    "for article in list_articls:\n",
    "    _, text = crawl_article(article['link'])\n",
    "    article['text'] = text\n",
    "\n",
    "print(list_articls[0]['text'])"
   ]
  },
  {
   "cell_type": "code",
   "execution_count": null,
   "metadata": {
    "id": "8aOK-gsGO9W8"
   },
   "outputs": [],
   "source": [
    "# 3. 긁어온 본문 test에서 명사 추출(키워드, 빈도수)\n",
    "def get_keywords(text, nKeywords = 10):\n",
    "    list_keywords = [] # 빈 키워드 리스트. 추후 append로 모든 기사에 대해 내용 추가\n",
    "\n",
    "    spliter = Okt() # 문장을 형태소별로 쪼개는 spliter\n",
    "\n",
    "    nouns = spliter.nouns(text) # noun을 추출하여 nouns에 저장\n",
    "    count = Counter(nouns) # 각 명사의 수\n",
    "\n",
    "    for n, c in count.most_common(nKeywords): # 가장 출현빈도 높은 명사부터 순차적으로 10번\n",
    "        item = {'keyword' : n, 'count' : c} # 저장은 키워드, 카운트 형식으로\n",
    "        list_keywords.append(item)\n",
    "\n",
    "    return list_keywords"
   ]
  },
  {
   "cell_type": "code",
   "execution_count": null,
   "metadata": {
    "colab": {
     "base_uri": "https://localhost:8080/"
    },
    "id": "wvN_JqJLO9OS",
    "outputId": "e6101a1f-671f-4331-9373-a1971e2c1588"
   },
   "outputs": [
    {
     "name": "stdout",
     "output_type": "stream",
     "text": [
      "[{'keyword': '상품', 'count': 14}, {'keyword': '신고', 'count': 13}, {'keyword': '위조', 'count': 13}, {'keyword': '위고', 'count': 7}, {'keyword': '페어', 'count': 7}, {'keyword': '서비스', 'count': 7}, {'keyword': '플랫폼', 'count': 6}, {'keyword': '기업', 'count': 6}, {'keyword': '수', 'count': 5}, {'keyword': '등', 'count': 5}]\n"
     ]
    }
   ],
   "source": [
    "print(get_keywords(list_articls[0]['text']))"
   ]
  },
  {
   "cell_type": "code",
   "execution_count": null,
   "metadata": {
    "colab": {
     "base_uri": "https://localhost:8080/"
    },
    "id": "IZ40voqDO9En",
    "outputId": "73540830-577a-4325-9e88-f6bd06eb11ad"
   },
   "outputs": [
    {
     "name": "stdout",
     "output_type": "stream",
     "text": [
      "{'title': \"위고페어, '원클릭 위조상품 신고서비스' 출시\", 'link': 'https://www.etnews.com/20241105000329', 'text': \"상품 URL만 올리면 전 세계 온라인마켓 위조품 신고 끝\\n\\n인공지능(AI) 기반 위조상품 모니터링 및 차단 플랫폼을 운영하는 위고페어가 URL만 입력하면 간편하게 위조상품 신고할 수 있는 '원클릭 위조상품 신고 서비스'를 출시했다고 6일 밝혔다.\\n\\n\\n\\n'원클릭 위조상품 신고 서비스'는 위조품 판매 페이지 URL 입력만으로 위조상품 신고가 완료되어 전문지식이 없어도 누구나 쉽게 이용할 수 있다. 일명 '가품' 또는 '짝퉁'이라고 불리는 위조상품이 판매되는 것을 알고 있어도 플랫폼별로 상이한 신고 절차, 언어 장벽, 복잡한 신고 프로세스 등으로 대응을 못해 어려움을 겪던 기업들이 보다 쉽게 브랜드를 보호할 수 있도록 설계됐다. 특히 건별 신고 및 결제가 가능해 기업의 비용 부담을 대폭 줄인 것이 특징이다.\\n\\n\\n\\n위고페어 '원클릭 위조상품 신고'서비스는 국내뿐 아니라 다양한 글로벌 쇼핑몰에서 우리 기업의 브랜드 보호를 지원한다. 네이버, 쿠팡 등을 비롯해 알리바바, 테무, 쉬인 등 중국의 주요 이커머스 플랫폼은 물론, 쇼피, 라자다와 같은 동남아 플랫폼, 아마존, 이베이 등 글로벌 플랫폼의 위조상품까지 모두 신고가 가능하다.\\n\\n\\n\\n변리사와 지식재산보호원 위조상품 단속팀 출신 전문가들이 직접 신고 프로세스를 관리해 99%의 위조상품 차단 실적을 자랑한다. 기업별 전담 매니저를 배정해 맞춤형 서비스를 신속하게 제공한다.\\n\\n\\n\\n김종면 위고페어 CEO는 “위조상품 유통은 기업의 브랜드 이미지 훼손뿐만 아니라 매출 손실, 일자리 감소, 세수 감소 등 국가 경제에도 심각한 피해를 주고 있다”라며 “위고페어는 최첨단 AI 기술과 글로벌 플랫폼 위조품 차단 실무 경험을 보유한 전문 인력들을 바탕으로 우리 기업들의 브랜드를 효과적으로 보호하겠다”고 강조했다.\\n\\n\\n\\n위고페어는 '원클릭 위조상품 신고 서비스'의 출시를 기념해 12월까지 3건의 무료 신고 서비스를 제공하는 프로모션을 진행한다. 자세한 내용은 위고페어 홈페이지에서 확인할 수 있으며, 신청을 통해 위고페어의 AI 특허기술을 통한 위조상품 차단 서비스를 직접 체험해 볼 수 있다.\\n\\n\\n\\n김정희 기자 jhakim@etnews.com\", 'keywords': [{'keyword': '상품', 'count': 14}, {'keyword': '신고', 'count': 13}, {'keyword': '위조', 'count': 13}, {'keyword': '위고', 'count': 7}, {'keyword': '페어', 'count': 7}, {'keyword': '서비스', 'count': 7}, {'keyword': '플랫폼', 'count': 6}, {'keyword': '기업', 'count': 6}, {'keyword': '수', 'count': 5}, {'keyword': '등', 'count': 5}]}\n"
     ]
    }
   ],
   "source": [
    "for article in list_articls:\n",
    "    keywords = get_keywords(article['text'])\n",
    "    article['keywords'] = keywords\n",
    "\n",
    "print(list_articls[0])"
   ]
  },
  {
   "cell_type": "code",
   "execution_count": null,
   "metadata": {
    "colab": {
     "base_uri": "https://localhost:8080/"
    },
    "id": "EUJOZpVLm2Jh",
    "outputId": "718225ce-3dd7-481f-f8e2-4d0d923f8fee"
   },
   "outputs": [
    {
     "name": "stdout",
     "output_type": "stream",
     "text": [
      "미국\n",
      "[TF] 8 [Title] 막오른 `미국의 선택`...해리스-트럼프 초접전\n",
      "[URL] https://www.etnews.com/20241105000263\n",
      "[TF] 7 [Title] 외산 장비 설 곳 잃어가는 中 반도체 시장\n",
      "[URL] https://www.etnews.com/20241105000240\n",
      "[TF] 7 [Title] [2024 美 대선] 선택의 날 밝았다…해리스·트럼프 막판까지 초접전\n",
      "[URL] https://www.etnews.com/20241104000315\n",
      "[TF] 4 [Title] 韓·美, 원자력수출협력 합의…산업부 “제2 웨스팅하우스 분쟁 막는다”\n",
      "[URL] https://www.etnews.com/20241105000334\n",
      "[TF] 3 [Title] 美 뉴욕서 6명 목숨 앗아간 '지하철 서핑'… 과연 뭐길래?\n",
      "[URL] https://www.etnews.com/20241105000253\n"
     ]
    }
   ],
   "source": [
    "# 검색어를 입력받아서, 해당 검색어를 가진 문서를 출력\n",
    "query = input()\n",
    "\n",
    "# 아래 함수는 쿼리를 입력받은 후, 정해진 문서의 키워드 리스트에서\n",
    "# 쿼리가 그 키워드 중 하나로 존재라는지 검색\n",
    "def search_articles(query, list_keywords):\n",
    "    nWords = 0 # 쿼리의 출현 횟수\n",
    "    for kw in list_keywords:\n",
    "        if query == kw['keyword']: # 키워드가 있다면\n",
    "            nWords = kw['count']\n",
    "            break\n",
    "\n",
    "    return nWords\n",
    "\n",
    "results = []\n",
    "\n",
    "# 문서 전체 검색\n",
    "for article in list_articls:\n",
    "    nQuery = search_articles(query, article['keywords'])\n",
    "    if nQuery != 0:\n",
    "        results.append({\n",
    "            'TF': nQuery, # 검색 키워드 출현 횟수\n",
    "            'Title': article['title'], # 검색된 기사의 제목\n",
    "            'URL': article['link'] # 검색된 기사의 URL\n",
    "        })\n",
    "\n",
    "# 출현 횟수로 정렬 (내림차순)\n",
    "results.sort(key=lambda x: x['TF'], reverse=True)\n",
    "\n",
    "# 정렬된 결과 출력\n",
    "for result in results:\n",
    "    print('[TF]', result['TF'], '[Title]', result['Title'])\n",
    "    print('[URL]', result['URL'])"
   ]
  },
  {
   "cell_type": "code",
   "execution_count": null,
   "metadata": {
    "id": "2zlahQS6m2DZ"
   },
   "outputs": [],
   "source": []
  },
  {
   "cell_type": "code",
   "execution_count": null,
   "metadata": {
    "id": "razPgiHEuO0q"
   },
   "outputs": [],
   "source": []
  },
  {
   "cell_type": "code",
   "execution_count": null,
   "metadata": {
    "id": "UxrA1G2LuOyG"
   },
   "outputs": [],
   "source": []
  }
 ],
 "metadata": {
  "colab": {
   "provenance": []
  },
  "kernelspec": {
   "display_name": "Python 3",
   "name": "python3"
  },
  "language_info": {
   "name": "python"
  }
 },
 "nbformat": 4,
 "nbformat_minor": 0
}
